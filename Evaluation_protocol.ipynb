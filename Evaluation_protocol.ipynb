{
 "cells": [
  {
   "cell_type": "markdown",
   "metadata": {},
   "source": [
    "# 交差検証"
   ]
  },
  {
   "cell_type": "markdown",
   "metadata": {},
   "source": [
    "## 交差検証とは"
   ]
  },
  {
   "cell_type": "markdown",
   "metadata": {},
   "source": [
    "サンプルデータをいくつかのグループに分割し、その一部のグループを使ってモデル構築を行い、残りのグループを使ってモデルの良さを評価する手法。また、モデル構築に使用するグループと、モデルの良さを評価するグループを変更して再度評価していく手法。\n",
    "\n",
    "検証の手順としては以下の通り。\n",
    "1. サンプルデータを複数のグループに分割する。(分割した数をKとする)\n",
    "2. いくつかのグループで学習を行う。\n",
    "3. 残りのグループで検証を行う。\n",
    "4. 学習するグループと検証を行うグループを変更して再度2.3の手順を踏む。\n",
    "5. 複数回検証を実施したら、その平均値などから良いモデルを評価する。\n",
    "\n",
    "イメージは1.2の図参照。"
   ]
  },
  {
   "cell_type": "markdown",
   "metadata": {},
   "source": [
    "## ホールドアウトとの違い"
   ]
  },
  {
   "cell_type": "markdown",
   "metadata": {},
   "source": [
    "ホールドアウトがすべてのデータを二つに分けるのに対し、交差検証はいくつかのグループに分けて検証を行う。（詳しくは以下の図を参照）\n",
    "\n",
    "![ホールドアウト](https://newtechnologylifestyle.net/wp-content/uploads/2018/05/1.Hold-out.png)\n",
    "![交差検証](https://newtechnologylifestyle.net/wp-content/uploads/2018/05/2.Cross-Validation.png)"
   ]
  },
  {
   "cell_type": "markdown",
   "metadata": {},
   "source": [
    "## メリット・デメリット"
   ]
  },
  {
   "cell_type": "markdown",
   "metadata": {},
   "source": [
    "- メリット\n",
    "  - グループで分割した数(K)だけ、検証やテストを行うことができるため、サンプルのデータ数がある程度少ない場合でも検証を行う事ができる。\n",
    "\n",
    "- デメリット\n",
    "  - グループで分割した数(K)だけ、計算コストが多くかかるため、サンプルデータが多い場合などには考えて使用しなければならない。"
   ]
  },
  {
   "cell_type": "markdown",
   "metadata": {},
   "source": [
    "## 使用例"
   ]
  },
  {
   "cell_type": "code",
   "execution_count": 22,
   "metadata": {
    "ExecuteTime": {
     "end_time": "2019-10-03T05:28:46.227035Z",
     "start_time": "2019-10-03T05:28:46.191130Z"
    }
   },
   "outputs": [
    {
     "name": "stdout",
     "output_type": "stream",
     "text": [
      "Test: 0.0\n",
      "Test: 0.6731348488184048\n",
      "Test: 0.7043119920052114\n",
      "Test: 0.0\n"
     ]
    }
   ],
   "source": [
    "import warnings\n",
    "\n",
    "import matplotlib.pyplot as plt\n",
    "import numpy as np\n",
    "import pandas as pd\n",
    "import seaborn as sns\n",
    "\n",
    "from sklearn.datasets import load_iris\n",
    "from sklearn.model_selection import KFold\n",
    "from sklearn.linear_model import LogisticRegression\n",
    "\n",
    "warnings.filterwarnings('ignore')\n",
    "\n",
    "%matplotlib inline\n",
    "\n",
    "# データセットを読み込む\n",
    "cancer = load_iris()\n",
    "\n",
    "# 交差検証の準備：n_splits=分割数、shuffle=シャッフルするかどうか\n",
    "k_fold_cross_validation = KFold(n_splits=4,  random_state=1, shuffle=False) \n",
    "\n",
    "# 山本備忘録： \n",
    "# shuffle: 用意されているデータのクラスが順番になってしまっている時はTrueを使うと順番をバラバラにしてからK-Foldを実施する。\n",
    "#          stratifiedとは違う。iris_data_setの場合、FalseにするとKFoldの場所によってはモデルの識別精度が悪くなっていることがわかる。\n",
    "\n",
    "# 交差検証の実施\n",
    "# 今回はn_splitsが4回なので、4回繰り返される。毎度のループごとに訓練データとテストデータに使用するインデックスが渡されている。\n",
    "for train_index, test_index in k_fold_cross_validation.split(cancer.data):\n",
    "\n",
    "    # 選択されたインデックスをもとにデータを分割\n",
    "    X_train, y_train = cancer.data[train_index], cancer.target[train_index]\n",
    "    X_test, y_test = cancer.data[test_index], cancer.target[test_index]\n",
    "\n",
    "    # モデルの構築\n",
    "    lr = LinearRegression()\n",
    "    lr.fit(X_train, y_train)\n",
    "    \n",
    "    # モデルの評価\n",
    "    print(f'Test: {lr.score(X_test, y_test)}')"
   ]
  },
  {
   "cell_type": "markdown",
   "metadata": {},
   "source": [
    "[1] KFold公式ドキュメント  \n",
    "https://scikit-learn.org/stable/modules/generated/sklearn.model_selection.KFold.html"
   ]
  },
  {
   "cell_type": "markdown",
   "metadata": {},
   "source": [
    "# 交差検証のバリエーション"
   ]
  },
  {
   "cell_type": "code",
   "execution_count": null,
   "metadata": {},
   "outputs": [],
   "source": []
  },
  {
   "cell_type": "code",
   "execution_count": null,
   "metadata": {},
   "outputs": [],
   "source": []
  },
  {
   "cell_type": "code",
   "execution_count": null,
   "metadata": {},
   "outputs": [],
   "source": []
  },
  {
   "cell_type": "markdown",
   "metadata": {},
   "source": [
    "# 参考URL\n",
    "[1]https://newtechnologylifestyle.net/%E6%A9%9F%E6%A2%B0%E5%AD%A6%E7%BF%92%E3%80%81%E3%83%87%E3%82%A3%E3%83%BC%E3%83%97%E3%83%A9%E3%83%BC%E3%83%8B%E3%83%B3%E3%82%B0%E3%81%A7%E3%81%AE%E5%AD%A6%E7%BF%92%E3%83%87%E3%83%BC%E3%82%BF%E3%81%A8/"
   ]
  },
  {
   "cell_type": "markdown",
   "metadata": {},
   "source": [
    "終わり"
   ]
  }
 ],
 "metadata": {
  "kernelspec": {
   "display_name": "Python 3",
   "language": "python",
   "name": "python3"
  },
  "language_info": {
   "codemirror_mode": {
    "name": "ipython",
    "version": 3
   },
   "file_extension": ".py",
   "mimetype": "text/x-python",
   "name": "python",
   "nbconvert_exporter": "python",
   "pygments_lexer": "ipython3",
   "version": "3.7.3"
  },
  "toc": {
   "base_numbering": 1,
   "nav_menu": {},
   "number_sections": true,
   "sideBar": true,
   "skip_h1_title": false,
   "title_cell": "Table of Contents",
   "title_sidebar": "Contents",
   "toc_cell": false,
   "toc_position": {},
   "toc_section_display": true,
   "toc_window_display": false
  }
 },
 "nbformat": 4,
 "nbformat_minor": 2
}
