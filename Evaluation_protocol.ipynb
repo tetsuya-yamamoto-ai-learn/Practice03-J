{
 "cells": [
  {
   "cell_type": "markdown",
   "metadata": {},
   "source": [
    "# 交差検証"
   ]
  },
  {
   "cell_type": "markdown",
   "metadata": {},
   "source": [
    "## 交差検証とは"
   ]
  },
  {
   "cell_type": "markdown",
   "metadata": {},
   "source": [
    "サンプルデータをいくつかのグループに分割し、その一部のグループを使ってモデル構築を行い、残りのグループを使ってモデルの良さを評価する手法。また、モデル構築に使用するグループと、モデルの良さを評価するグループを変更して再度評価していく手法。\n",
    "\n",
    "検証の手順としては以下の通り。\n",
    "1. サンプルデータを複数のグループに分割する。(分割した数をKとする)\n",
    "2. いくつかのグループで学習を行う。\n",
    "3. 残りのグループで検証を行う。\n",
    "4. 学習するグループと検証を行うグループを変更して再度2.3の手順を踏む。\n",
    "5. 複数回検証を実施したら、その平均値などから良いモデルを評価する。\n",
    "\n",
    "イメージは1.2の図参照。"
   ]
  },
  {
   "cell_type": "markdown",
   "metadata": {},
   "source": [
    "## ホールドアウトとの違い"
   ]
  },
  {
   "cell_type": "markdown",
   "metadata": {},
   "source": [
    "ホールドアウトがすべてのデータを二つに分けるのに対し、交差検証はいくつかのグループに分けて検証を行う。（詳しくは以下の図を参照）\n",
    "\n",
    "![ホールドアウト](https://newtechnologylifestyle.net/wp-content/uploads/2018/05/1.Hold-out.png)\n",
    "![交差検証](https://newtechnologylifestyle.net/wp-content/uploads/2018/05/2.Cross-Validation.png)"
   ]
  },
  {
   "cell_type": "markdown",
   "metadata": {},
   "source": [
    "## メリット・デメリット"
   ]
  },
  {
   "cell_type": "markdown",
   "metadata": {},
   "source": [
    "- メリット\n",
    "  - グループで分割した数(K)だけ、検証やテストを行うことができるため、サンプルのデータ数がある程度少ない場合でも検証を行う事ができる。\n",
    "\n",
    "- デメリット\n",
    "  - グループで分割した数(K)だけ、計算コストが多くかかるため、サンプルデータが多い場合などには考えて使用しなければならない。"
   ]
  },
  {
   "cell_type": "markdown",
   "metadata": {},
   "source": [
    "## 使用例"
   ]
  },
  {
   "cell_type": "code",
   "execution_count": 81,
   "metadata": {
    "ExecuteTime": {
     "end_time": "2019-10-03T06:31:58.621249Z",
     "start_time": "2019-10-03T06:31:58.588344Z"
    }
   },
   "outputs": [
    {
     "name": "stdout",
     "output_type": "stream",
     "text": [
      "Test: 0.8993541715616912\n",
      "Test: 0.9261649303681716\n",
      "Test: 0.9519419452318577\n",
      "Test: 0.885452087053503\n"
     ]
    }
   ],
   "source": [
    "import warnings\n",
    "\n",
    "import matplotlib.pyplot as plt\n",
    "import numpy as np\n",
    "import pandas as pd\n",
    "import seaborn as sns\n",
    "\n",
    "from sklearn.datasets import load_iris\n",
    "from sklearn.model_selection import KFold\n",
    "from sklearn.linear_model import LogisticRegression\n",
    "\n",
    "warnings.filterwarnings('ignore')\n",
    "\n",
    "%matplotlib inline\n",
    "\n",
    "# データセットを読み込む\n",
    "iris = load_iris()\n",
    "\n",
    "# 交差検証の準備：n_splits=分割数、shuffle=シャッフルするかどうか、random_state:None:バラバラ、それ以外:再現性を保つ\n",
    "k_fold_cross_validation = KFold(n_splits=4, shuffle=True, random_state=1) \n",
    "\n",
    "# 山本備忘録： \n",
    "# shuffle: 用意されているデータのクラスが順番になってしまっている時はTrueを使うと順番をバラバラにしてからK-Foldを実施する。\n",
    "#          stratifiedとは違う。iris_data_setの場合、FalseにするとKFoldの場所によってはモデルの識別精度が悪くなっていることがわかる。\n",
    "\n",
    "# 交差検証の実施\n",
    "# 今回はn_splitsが4回なので、4回繰り返される。毎度のループごとに訓練データとテストデータに使用するインデックスが渡されている。\n",
    "for train_index, test_index in k_fold_cross_validation.split(iris.data):\n",
    "\n",
    "    # 選択されたインデックスをもとにデータを分割\n",
    "    X_train, y_train = iris.data[train_index], iris.target[train_index]\n",
    "    X_test, y_test = iris.data[test_index], iris.target[test_index]\n",
    "\n",
    "    # モデルの構築\n",
    "    lr = LinearRegression()\n",
    "    lr.fit(X_train, y_train)\n",
    "    \n",
    "    # モデルの評価\n",
    "    print(f'Test: {lr.score(X_test, y_test)}')"
   ]
  },
  {
   "cell_type": "markdown",
   "metadata": {},
   "source": [
    "[1] KFold公式ドキュメント  \n",
    "https://scikit-learn.org/stable/modules/generated/sklearn.model_selection.KFold.html"
   ]
  },
  {
   "cell_type": "markdown",
   "metadata": {},
   "source": [
    "# 交差検証のバリエーション"
   ]
  },
  {
   "cell_type": "markdown",
   "metadata": {},
   "source": [
    "## StratifiedKFold"
   ]
  },
  {
   "cell_type": "markdown",
   "metadata": {},
   "source": [
    "### 定義"
   ]
  },
  {
   "cell_type": "markdown",
   "metadata": {
    "ExecuteTime": {
     "end_time": "2019-10-03T05:51:28.989924Z",
     "start_time": "2019-10-03T05:51:28.983945Z"
    }
   },
   "source": [
    "KFoldの仕方によってクラスの偏りが出ないようにクラスごとに分割したうえで、元データのクラスごとの割合を保った状態でKFoldを実施する手法"
   ]
  },
  {
   "cell_type": "markdown",
   "metadata": {},
   "source": [
    "### 実装"
   ]
  },
  {
   "cell_type": "code",
   "execution_count": 82,
   "metadata": {
    "ExecuteTime": {
     "end_time": "2019-10-03T06:32:29.666711Z",
     "start_time": "2019-10-03T06:32:29.631804Z"
    }
   },
   "outputs": [
    {
     "name": "stdout",
     "output_type": "stream",
     "text": [
      "Test: 0.9370310206615352\n",
      "Test: 0.9260110826117072\n",
      "Test: 0.8908901732114537\n",
      "Test: 0.9470282966672622\n"
     ]
    }
   ],
   "source": [
    "import warnings\n",
    "\n",
    "import matplotlib.pyplot as plt\n",
    "import numpy as np\n",
    "import pandas as pd\n",
    "import seaborn as sns\n",
    "\n",
    "from sklearn.datasets import load_iris\n",
    "from sklearn.model_selection import StratifiedKFold\n",
    "from sklearn.linear_model import LogisticRegression\n",
    "\n",
    "warnings.filterwarnings('ignore')\n",
    "\n",
    "%matplotlib inline\n",
    "\n",
    "# データセットを読み込む\n",
    "iris = load_iris()\n",
    "\n",
    "# 交差検証の準備：n_splits=分割数、shuffle=シャッフルするかどうか、random_state:None:バラバラ、それ以外:再現性を保つ\n",
    "k_fold_cross_validation = StratifiedKFold(n_splits=4, shuffle=True, random_state=1) \n",
    "\n",
    "# stratifiedKFoldの実施(説明変数だけでなく、目的変数を代入する必要がある！！)\n",
    "for train_index, test_index in k_fold_cross_validation.split(iris.data, iris.target):\n",
    "\n",
    "    # 選択されたインデックスをもとにデータを分割\n",
    "    X_train, y_train = iris.data[train_index], iris.target[train_index]\n",
    "    X_test, y_test = iris.data[test_index], iris.target[test_index]\n",
    "\n",
    "    # モデルの構築\n",
    "    lr = LinearRegression()\n",
    "    lr.fit(X_train, y_train)\n",
    "    \n",
    "    # モデルの評価\n",
    "    print(f'Test: {lr.score(X_test, y_test)}')"
   ]
  },
  {
   "cell_type": "markdown",
   "metadata": {},
   "source": [
    "## GroupKField"
   ]
  },
  {
   "cell_type": "markdown",
   "metadata": {},
   "source": [
    "### 定義"
   ]
  },
  {
   "cell_type": "markdown",
   "metadata": {},
   "source": [
    "データの中に密接な関係が存在する場合に用いられる手法。\n",
    "\n",
    "例えば、顔の画像から人の表情を予測するモデルを作成する場合。訓練データとテストデータに同じ人の表情データがあると認識しやすくなってしまう。こうした問題を防ぐために、同一人物の表情データに対してグループのラベル付けを行い、同一の人の画像がテストデータと訓練データに分割されないようにKFoldを行う手法。"
   ]
  },
  {
   "cell_type": "markdown",
   "metadata": {},
   "source": [
    "### 実装"
   ]
  },
  {
   "cell_type": "code",
   "execution_count": 110,
   "metadata": {
    "ExecuteTime": {
     "end_time": "2019-10-03T06:42:40.964489Z",
     "start_time": "2019-10-03T06:42:40.933576Z"
    }
   },
   "outputs": [
    {
     "name": "stdout",
     "output_type": "stream",
     "text": [
      "Test: 0.9183206532250073\n",
      "Test: 0.9097777315755673\n",
      "Test: 0.9358658185205864\n",
      "Test: 0.915467294366516\n"
     ]
    }
   ],
   "source": [
    "import warnings\n",
    "\n",
    "import matplotlib.pyplot as plt\n",
    "import numpy as np\n",
    "import pandas as pd\n",
    "import seaborn as sns\n",
    "\n",
    "from sklearn.datasets import load_iris\n",
    "from sklearn.model_selection import GroupKFold\n",
    "from sklearn.linear_model import LogisticRegression\n",
    "\n",
    "warnings.filterwarnings('ignore')\n",
    "\n",
    "%matplotlib inline\n",
    "\n",
    "# データセットを読み込む\n",
    "iris = load_iris()\n",
    "\n",
    "# GroupKFoldの準備：n_splits=分割数、shuffle=シャッフルするかどうか、random_state:None:バラバラ、それ以外:再現性を保つ\n",
    "k_fold_cross_validation = GroupKFold(n_splits=4) \n",
    "\n",
    "# GroupKFoldの実施(説明変数だけでなく、目的変数、グループラベルを代入する必要がある！！)\n",
    "group = [1, 2, 3, 4, 5] * 30\n",
    "for train_index, test_index in k_fold_cross_validation.split(iris.data, iris.target, group):\n",
    "\n",
    "    # 選択されたインデックスをもとにデータを分割\n",
    "    X_train, y_train = iris.data[train_index], iris.target[train_index]\n",
    "    X_test, y_test = iris.data[test_index], iris.target[test_index]\n",
    "\n",
    "    # モデルの構築\n",
    "    lr = LinearRegression()\n",
    "    lr.fit(X_train, y_train)\n",
    "    \n",
    "    # モデルの評価\n",
    "    print(f'Test: {lr.score(X_test, y_test)}')"
   ]
  },
  {
   "cell_type": "markdown",
   "metadata": {},
   "source": [
    "# 参考URL\n",
    "[1]https://newtechnologylifestyle.net/%E6%A9%9F%E6%A2%B0%E5%AD%A6%E7%BF%92%E3%80%81%E3%83%87%E3%82%A3%E3%83%BC%E3%83%97%E3%83%A9%E3%83%BC%E3%83%8B%E3%83%B3%E3%82%B0%E3%81%A7%E3%81%AE%E5%AD%A6%E7%BF%92%E3%83%87%E3%83%BC%E3%82%BF%E3%81%A8/"
   ]
  },
  {
   "cell_type": "markdown",
   "metadata": {},
   "source": [
    "終わり"
   ]
  }
 ],
 "metadata": {
  "kernelspec": {
   "display_name": "Python 3",
   "language": "python",
   "name": "python3"
  },
  "language_info": {
   "codemirror_mode": {
    "name": "ipython",
    "version": 3
   },
   "file_extension": ".py",
   "mimetype": "text/x-python",
   "name": "python",
   "nbconvert_exporter": "python",
   "pygments_lexer": "ipython3",
   "version": "3.7.3"
  },
  "toc": {
   "base_numbering": 1,
   "nav_menu": {},
   "number_sections": true,
   "sideBar": true,
   "skip_h1_title": false,
   "title_cell": "Table of Contents",
   "title_sidebar": "Contents",
   "toc_cell": false,
   "toc_position": {},
   "toc_section_display": true,
   "toc_window_display": false
  }
 },
 "nbformat": 4,
 "nbformat_minor": 2
}
